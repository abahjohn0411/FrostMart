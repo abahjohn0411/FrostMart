{
 "cells": [
  {
   "cell_type": "code",
   "execution_count": 132,
   "id": "afcbcf04",
   "metadata": {},
   "outputs": [],
   "source": [
    "import pandas as pd\n",
    "import numpy as np\n",
    "import matplotlib.pyplot as plt\n",
    "from sklearn.preprocessing import StandardScaler\n",
    "from sklearn.feature_selection import SelectKBest, mutual_info_regression\n",
    "from sklearn.linear_model import Ridge\n",
    "from sklearn.ensemble import RandomForestRegressor\n",
    "from sklearn.metrics import mean_squared_error, mean_absolute_error, r2_score"
   ]
  },
  {
   "cell_type": "code",
   "execution_count": 116,
   "id": "22051e21",
   "metadata": {},
   "outputs": [],
   "source": [
    "model_df = pd.read_csv(r'C:\\Users\\ASUS PC\\Desktop\\AMDARI INTERNSHIP\\FrostMart\\Model\\model_data.csv')"
   ]
  },
  {
   "cell_type": "code",
   "execution_count": 117,
   "id": "35067c97",
   "metadata": {},
   "outputs": [
    {
     "name": "stdout",
     "output_type": "stream",
     "text": [
      "  Week_Number  Product_ID  Store_ID  Units_Sold  Marketing_Spend  \\\n",
      "0    2024-W01        1000       500        4853           670.37   \n",
      "1    2024-W01        1001       500        4274          1089.62   \n",
      "2    2024-W01        1002       500        4215          1004.99   \n",
      "3    2024-W01        1003       500        5768           859.45   \n",
      "4    2024-W01        1004       500        3403           576.70   \n",
      "\n",
      "   Discount_Percent  Wastage_Units  Price              Product_Name  \\\n",
      "0                 0            718   2.46    Whole Wheat Bread 800g   \n",
      "1                 0            641   1.27       White Sandwich Loaf   \n",
      "2                10            632   2.74          Croissant 4-pack   \n",
      "3                20            853   1.82  Blueberry Muffins 6-pack   \n",
      "4                 0            503   3.46    Chocolate Chip Cookies   \n",
      "\n",
      "  Product_Category  Shelf_Life_Days  Region  Store_Size  \\\n",
      "0           Bakery                4  London       12000   \n",
      "1           Bakery                2  London       12000   \n",
      "2           Bakery                2  London       12000   \n",
      "3           Bakery                4  London       12000   \n",
      "4           Bakery                4  London       12000   \n",
      "\n",
      "   Cold_Storage_Capacity              Supplier_Name  Lead_Time_Days  \\\n",
      "0                   3788     PremiumGoods Wholesale               3   \n",
      "1                   3788   TrustedSource Provisions               3   \n",
      "2                   3788  LocalHarvest Distributors               2   \n",
      "3                   3788     BestQuality Foods Ltd.               2   \n",
      "4                   3788     SwiftDelivery Foods UK               2   \n",
      "\n",
      "   Supply_Capacity  Avg_Temperature  Rainfall  Holiday_Flag  \n",
      "0            48776              9.9      23.0             1  \n",
      "1            46959              9.9      23.0             1  \n",
      "2            11306              9.9      23.0             1  \n",
      "3            53748              9.9      23.0             1  \n",
      "4            59474              9.9      23.0             1  \n"
     ]
    }
   ],
   "source": [
    "print(model_df.head())"
   ]
  },
  {
   "cell_type": "code",
   "execution_count": 118,
   "id": "4af15f32",
   "metadata": {},
   "outputs": [],
   "source": [
    "# Create temporal index (0, 1, 2, ...) for time-based splitting later\n",
    "week_map = {week: i for i, week in enumerate(model_df['Week_Number'].unique().tolist())}\n",
    "model_df['Time_Index'] = model_df['Week_Number'].map(week_map)"
   ]
  },
  {
   "cell_type": "code",
   "execution_count": 119,
   "id": "d33ad890",
   "metadata": {},
   "outputs": [],
   "source": [
    "# --- ML PRE-PROCESSING ---\n",
    "df_ml = model_df.copy()\n",
    "df_ml = df_ml.drop(columns=['Product_Name', 'Supplier_Name'])"
   ]
  },
  {
   "cell_type": "code",
   "execution_count": 120,
   "id": "854ced56",
   "metadata": {},
   "outputs": [
    {
     "name": "stdout",
     "output_type": "stream",
     "text": [
      "  Week_Number  Product_ID  Store_ID  Units_Sold  Marketing_Spend  \\\n",
      "0    2024-W01        1000       500        4853           670.37   \n",
      "1    2024-W01        1001       500        4274          1089.62   \n",
      "2    2024-W01        1002       500        4215          1004.99   \n",
      "3    2024-W01        1003       500        5768           859.45   \n",
      "4    2024-W01        1004       500        3403           576.70   \n",
      "\n",
      "   Discount_Percent  Wastage_Units  Price Product_Category  Shelf_Life_Days  \\\n",
      "0                 0            718   2.46           Bakery                4   \n",
      "1                 0            641   1.27           Bakery                2   \n",
      "2                10            632   2.74           Bakery                2   \n",
      "3                20            853   1.82           Bakery                4   \n",
      "4                 0            503   3.46           Bakery                4   \n",
      "\n",
      "   Region  Store_Size  Cold_Storage_Capacity  Lead_Time_Days  Supply_Capacity  \\\n",
      "0  London       12000                   3788               3            48776   \n",
      "1  London       12000                   3788               3            46959   \n",
      "2  London       12000                   3788               2            11306   \n",
      "3  London       12000                   3788               2            53748   \n",
      "4  London       12000                   3788               2            59474   \n",
      "\n",
      "   Avg_Temperature  Rainfall  Holiday_Flag  Time_Index  \n",
      "0              9.9      23.0             1           0  \n",
      "1              9.9      23.0             1           0  \n",
      "2              9.9      23.0             1           0  \n",
      "3              9.9      23.0             1           0  \n",
      "4              9.9      23.0             1           0  \n"
     ]
    }
   ],
   "source": [
    "print(df_ml.head())\n"
   ]
  },
  {
   "cell_type": "code",
   "execution_count": 121,
   "id": "133e100d",
   "metadata": {},
   "outputs": [],
   "source": [
    "# Feature Engineering: Cyclic Encoding\n",
    "df_ml['Week_Num'] = df_ml['Week_Number'].str.split('-W').str[1]\n",
    "df_ml['Week_Num'] = pd.to_numeric(df_ml['Week_Num'], errors='coerce').fillna(1).astype(int) \n",
    "MAX_WEEKS = 53\n",
    "df_ml['Week_sin'] = np.sin(2 * np.pi * df_ml['Week_Num'] / MAX_WEEKS)\n",
    "df_ml['Week_cos'] = np.cos(2 * np.pi * df_ml['Week_Num'] / MAX_WEEKS)\n",
    "df_ml = df_ml.drop(columns=['Week_Number', 'Week_Num'])"
   ]
  },
  {
   "cell_type": "code",
   "execution_count": 122,
   "id": "d8ad78f1",
   "metadata": {},
   "outputs": [
    {
     "name": "stdout",
     "output_type": "stream",
     "text": [
      "   Product_ID  Store_ID  Units_Sold  Marketing_Spend  Discount_Percent  \\\n",
      "0        1000       500        4853           670.37                 0   \n",
      "1        1001       500        4274          1089.62                 0   \n",
      "2        1002       500        4215          1004.99                10   \n",
      "3        1003       500        5768           859.45                20   \n",
      "4        1004       500        3403           576.70                 0   \n",
      "\n",
      "   Wastage_Units  Price Product_Category  Shelf_Life_Days  Region  Store_Size  \\\n",
      "0            718   2.46           Bakery                4  London       12000   \n",
      "1            641   1.27           Bakery                2  London       12000   \n",
      "2            632   2.74           Bakery                2  London       12000   \n",
      "3            853   1.82           Bakery                4  London       12000   \n",
      "4            503   3.46           Bakery                4  London       12000   \n",
      "\n",
      "   Cold_Storage_Capacity  Lead_Time_Days  Supply_Capacity  Avg_Temperature  \\\n",
      "0                   3788               3            48776              9.9   \n",
      "1                   3788               3            46959              9.9   \n",
      "2                   3788               2            11306              9.9   \n",
      "3                   3788               2            53748              9.9   \n",
      "4                   3788               2            59474              9.9   \n",
      "\n",
      "   Rainfall  Holiday_Flag  Time_Index  Week_sin  Week_cos  \n",
      "0      23.0             1           0  0.118273  0.992981  \n",
      "1      23.0             1           0  0.118273  0.992981  \n",
      "2      23.0             1           0  0.118273  0.992981  \n",
      "3      23.0             1           0  0.118273  0.992981  \n",
      "4      23.0             1           0  0.118273  0.992981  \n"
     ]
    }
   ],
   "source": [
    "print(df_ml.head())"
   ]
  },
  {
   "cell_type": "code",
   "execution_count": 123,
   "id": "71ec6677",
   "metadata": {},
   "outputs": [],
   "source": [
    "# Categorical Encoding\n",
    "\n",
    "ohe_cols = ['Store_ID', 'Region', 'Product_Category', 'Holiday_Flag']\n",
    "for col in ohe_cols:\n",
    "    df_ml[col] = df_ml[col].astype(str)\n",
    "df_ml = pd.get_dummies(df_ml, columns=ohe_cols, drop_first=True)\n"
   ]
  },
  {
   "cell_type": "code",
   "execution_count": 124,
   "id": "dcf29c6b",
   "metadata": {},
   "outputs": [
    {
     "name": "stdout",
     "output_type": "stream",
     "text": [
      "   Product_ID  Units_Sold  Marketing_Spend  Discount_Percent  Wastage_Units  \\\n",
      "0        1000        4853           670.37                 0            718   \n",
      "1        1001        4274          1089.62                 0            641   \n",
      "2        1002        4215          1004.99                10            632   \n",
      "3        1003        5768           859.45                20            853   \n",
      "4        1004        3403           576.70                 0            503   \n",
      "\n",
      "   Price  Shelf_Life_Days  Store_Size  Cold_Storage_Capacity  Lead_Time_Days  \\\n",
      "0   2.46                4       12000                   3788               3   \n",
      "1   1.27                2       12000                   3788               3   \n",
      "2   2.74                2       12000                   3788               2   \n",
      "3   1.82                4       12000                   3788               2   \n",
      "4   3.46                4       12000                   3788               2   \n",
      "\n",
      "   ...  Store_ID_514  Region_Midlands  Region_North East  Region_North West  \\\n",
      "0  ...         False            False              False              False   \n",
      "1  ...         False            False              False              False   \n",
      "2  ...         False            False              False              False   \n",
      "3  ...         False            False              False              False   \n",
      "4  ...         False            False              False              False   \n",
      "\n",
      "   Region_South East  Region_South West  Product_Category_Beverages  \\\n",
      "0              False              False                       False   \n",
      "1              False              False                       False   \n",
      "2              False              False                       False   \n",
      "3              False              False                       False   \n",
      "4              False              False                       False   \n",
      "\n",
      "   Product_Category_Dairy  Product_Category_Meat  Holiday_Flag_1  \n",
      "0                   False                  False            True  \n",
      "1                   False                  False            True  \n",
      "2                   False                  False            True  \n",
      "3                   False                  False            True  \n",
      "4                   False                  False            True  \n",
      "\n",
      "[5 rows x 39 columns]\n"
     ]
    }
   ],
   "source": [
    "print(df_ml.head())"
   ]
  },
  {
   "cell_type": "code",
   "execution_count": 125,
   "id": "7ded0855",
   "metadata": {},
   "outputs": [],
   "source": [
    "# Frequency Encoding for Product_ID\n",
    "\n",
    "\n",
    "product_counts = df_ml['Product_ID'].value_counts()\n",
    "df_ml['Product_ID_FreqEncoded'] = df_ml['Product_ID'].map(product_counts)\n",
    "# Drop the original Product_ID string column after encoding\n",
    "df_ml = df_ml.drop(columns=['Product_ID'])"
   ]
  },
  {
   "cell_type": "code",
   "execution_count": 126,
   "id": "484866fc",
   "metadata": {},
   "outputs": [
    {
     "name": "stdout",
     "output_type": "stream",
     "text": [
      "   Units_Sold  Marketing_Spend  Discount_Percent  Wastage_Units  Price  \\\n",
      "0        4853           670.37                 0            718   2.46   \n",
      "1        4274          1089.62                 0            641   1.27   \n",
      "2        4215          1004.99                10            632   2.74   \n",
      "3        5768           859.45                20            853   1.82   \n",
      "4        3403           576.70                 0            503   3.46   \n",
      "\n",
      "   Shelf_Life_Days  Store_Size  Cold_Storage_Capacity  Lead_Time_Days  \\\n",
      "0                4       12000                   3788               3   \n",
      "1                2       12000                   3788               3   \n",
      "2                2       12000                   3788               2   \n",
      "3                4       12000                   3788               2   \n",
      "4                4       12000                   3788               2   \n",
      "\n",
      "   Supply_Capacity  ...  Region_Midlands  Region_North East  \\\n",
      "0            48776  ...            False              False   \n",
      "1            46959  ...            False              False   \n",
      "2            11306  ...            False              False   \n",
      "3            53748  ...            False              False   \n",
      "4            59474  ...            False              False   \n",
      "\n",
      "   Region_North West  Region_South East  Region_South West  \\\n",
      "0              False              False              False   \n",
      "1              False              False              False   \n",
      "2              False              False              False   \n",
      "3              False              False              False   \n",
      "4              False              False              False   \n",
      "\n",
      "   Product_Category_Beverages  Product_Category_Dairy  Product_Category_Meat  \\\n",
      "0                       False                   False                  False   \n",
      "1                       False                   False                  False   \n",
      "2                       False                   False                  False   \n",
      "3                       False                   False                  False   \n",
      "4                       False                   False                  False   \n",
      "\n",
      "   Holiday_Flag_1  Product_ID_FreqEncoded  \n",
      "0            True                     780  \n",
      "1            True                     780  \n",
      "2            True                     780  \n",
      "3            True                     780  \n",
      "4            True                     780  \n",
      "\n",
      "[5 rows x 39 columns]\n"
     ]
    }
   ],
   "source": [
    "print(df_ml.head())"
   ]
  },
  {
   "cell_type": "code",
   "execution_count": 127,
   "id": "41b626fd",
   "metadata": {},
   "outputs": [],
   "source": [
    "# Final Data Split and Scaling\n",
    "X_final = df_ml.drop(columns=['Units_Sold'])\n",
    "y_final = df_ml['Units_Sold']\n",
    "numerical_cols = X_final.select_dtypes(include=np.number).columns.tolist()\n",
    "scaler = StandardScaler()\n",
    "X_final[numerical_cols] = scaler.fit_transform(X_final[numerical_cols])"
   ]
  },
  {
   "cell_type": "code",
   "execution_count": 128,
   "id": "2d62fc27",
   "metadata": {},
   "outputs": [],
   "source": [
    "# Separate features and target\n",
    "X_base = df_ml.drop(columns=['Units_Sold'])\n",
    "y_base = df_ml['Units_Sold']\n",
    "time_index = X_base['Time_Index']\n",
    "X_base = X_base.drop(columns=['Time_Index']) "
   ]
  },
  {
   "cell_type": "code",
   "execution_count": 129,
   "id": "94c7344d",
   "metadata": {},
   "outputs": [],
   "source": [
    "#Scaling numerical features\n",
    "numerical_cols = X_base.select_dtypes(include=np.number).columns.tolist()\n",
    "scaler = StandardScaler()\n",
    "X_final = X_base.copy()\n",
    "X_final[numerical_cols] = scaler.fit_transform(X_base[numerical_cols])"
   ]
  },
  {
   "cell_type": "code",
   "execution_count": 130,
   "id": "76a494a2",
   "metadata": {},
   "outputs": [
    {
     "name": "stdout",
     "output_type": "stream",
     "text": [
      "\n",
      "--- Feature Selection: Top Scores (mutual_info_regression) ---\n",
      "                       Feature     Score\n",
      "2                Wastage_Units  3.514289\n",
      "4              Shelf_Life_Days  0.244953\n",
      "34       Product_Category_Meat  0.213193\n",
      "33      Product_Category_Dairy  0.165507\n",
      "3                        Price  0.159362\n",
      "6        Cold_Storage_Capacity  0.136981\n",
      "5                   Store_Size  0.133286\n",
      "10                    Rainfall  0.082220\n",
      "9              Avg_Temperature  0.075486\n",
      "8              Supply_Capacity  0.071605\n",
      "32  Product_Category_Beverages  0.032648\n",
      "0              Marketing_Spend  0.031050\n",
      "31           Region_South West  0.030989\n",
      "11                    Week_sin  0.026314\n",
      "21                Store_ID_509  0.023224\n"
     ]
    }
   ],
   "source": [
    "#  SelectKBest with mutual_info_regression\n",
    "k_features = 15\n",
    "selector = SelectKBest(score_func=mutual_info_regression, k=k_features)\n",
    "selector.fit(X_final, y_base)\n",
    "\n",
    "# Get selected features\n",
    "selected_features_mask = selector.get_support()\n",
    "X_selected = X_final.iloc[:, selected_features_mask]\n",
    "\n",
    "# Print ranked scores\n",
    "feature_scores = pd.DataFrame({\n",
    "    'Feature': X_final.columns,\n",
    "    'Score': selector.scores_\n",
    "}).sort_values(by='Score', ascending=False)\n",
    "print(\"\\n--- Feature Selection: Top Scores (mutual_info_regression) ---\")\n",
    "print(feature_scores.head(k_features))"
   ]
  },
  {
   "cell_type": "code",
   "execution_count": 136,
   "id": "a9e4d707",
   "metadata": {},
   "outputs": [
    {
     "data": {
      "image/png": "[encoded data removed]",
      "text/plain": [
       "<Figure size 1000x600 with 1 Axes>"
      ]
     },
     "metadata": {},
     "output_type": "display_data"
    }
   ],
   "source": [
    "feature_scores.plot(kind='bar',figsize=(10,6))\n",
    "plt.title('Mutual Info Regression Score')\n",
    "plt.show()"
   ]
  },
  {
   "cell_type": "code",
   "execution_count": null,
   "id": "ab6a1590",
   "metadata": {},
   "outputs": [
    {
     "name": "stdout",
     "output_type": "stream",
     "text": [
      "\n",
      "--- 4. Temporal Data Split (80% Train / 20% Val) ---\n",
      "Training set size: 29520 | Validation set size: 7920\n",
      "Features used for training: ['Marketing_Spend', 'Wastage_Units', 'Price', 'Shelf_Life_Days', 'Store_Size', 'Cold_Storage_Capacity', 'Supply_Capacity', 'Avg_Temperature', 'Rainfall', 'Week_sin', 'Store_ID_504', 'Region_South West', 'Product_Category_Beverages', 'Product_Category_Dairy', 'Product_Category_Meat']\n"
     ]
    }
   ],
   "source": [
    "# TEMPORAL DATA SPLIT\n",
    "\n",
    "\n",
    "print(\"\\n--- 4. Temporal Data Split (80% Train / 20% Val) ---\")\n",
    "\n",
    "train_ratio = 0.8\n",
    "unique_time_steps = time_index.unique()\n",
    "split_point = int(train_ratio * len(unique_time_steps))\n",
    "split_index_value = unique_time_steps[split_point]\n",
    "\n",
    "X_train = X_selected[time_index < split_index_value]\n",
    "X_val = X_selected[time_index >= split_index_value]\n",
    "y_train = y_base[time_index < split_index_value]\n",
    "y_val = y_base[time_index >= split_index_value]\n",
    "\n",
    "print(f\"Training set size: {len(X_train)} | Validation set size: {len(X_val)}\")\n",
    "print(f\"Features used for training: {X_train.columns.tolist()}\")"
   ]
  },
  {
   "cell_type": "code",
   "execution_count": null,
   "id": "6165c556",
   "metadata": {},
   "outputs": [
    {
     "name": "stdout",
     "output_type": "stream",
     "text": [
      "\n",
      "--- 5. Model Training and Evaluation ---\n",
      "\n",
      "==============================================\n",
      "FINAL MODEL COMPARISON (Panel Data)\n",
      "==============================================\n",
      "                             RMSE       MAE      R2\n",
      "Model                                              \n",
      "Ridge Regression         478.1147  312.4033  0.8296\n",
      "Random Forest Regressor   38.0770   13.0242  0.9989\n"
     ]
    }
   ],
   "source": [
    "#  MODEL TRAINING AND EVALUATION\n",
    "\n",
    "\n",
    "print(\"\\n--- 5. Model Training and Evaluation ---\")\n",
    "\n",
    "all_metrics = []\n",
    "\n",
    "# Define evaluation function inline (or as a helper lambda)\n",
    "def get_metrics(y_true, y_pred, model_name):\n",
    "    rmse = np.sqrt(mean_squared_error(y_true, y_pred))\n",
    "    mae = mean_absolute_error(y_true, y_pred)\n",
    "    r2 = r2_score(y_true, y_pred)\n",
    "    return {\n",
    "        'Model': model_name, \n",
    "        'RMSE': round(rmse, 4), \n",
    "        'MAE': round(mae, 4), \n",
    "        'R2': round(r2, 4)\n",
    "    }\n",
    "\n",
    "# Model 1: Ridge Regression (Linear Baseline)\n",
    "ridge_model = Ridge(alpha=1.0)\n",
    "ridge_model.fit(X_train, y_train)\n",
    "y_pred_ridge = ridge_model.predict(X_val)\n",
    "all_metrics.append(get_metrics(y_val, y_pred_ridge, 'Ridge Regression'))\n",
    "\n",
    "# Model 2: Random Forest Regressor (Non-linear Model)\n",
    "rf_model = RandomForestRegressor(n_estimators=100, max_depth=10, random_state=42, n_jobs=-1)\n",
    "rf_model.fit(X_train, y_train)\n",
    "y_pred_rf = rf_model.predict(X_val)\n",
    "all_metrics.append(get_metrics(y_val, y_pred_rf, 'Random Forest Regressor'))\n",
    "\n",
    "# Final Summary\n",
    "df_metrics = pd.DataFrame(all_metrics).set_index('Model')\n",
    "\n",
    "print(\"\\n==============================================\")\n",
    "print(\"FINAL MODEL COMPARISON (Panel Data)\")\n",
    "print(\"==============================================\")\n",
    "print(df_metrics)"
   ]
  }
 ],
 "metadata": {
  "kernelspec": {
   "display_name": "johnenv (3.12.7)",
   "language": "python",
   "name": "python3"
  },
  "language_info": {
   "codemirror_mode": {
    "name": "ipython",
    "version": 3
   },
   "file_extension": ".py",
   "mimetype": "text/x-python",
   "name": "python",
   "nbconvert_exporter": "python",
   "pygments_lexer": "ipython3",
   "version": "3.12.7"
  }
 },
 "nbformat": 4,
 "nbformat_minor": 5
}
