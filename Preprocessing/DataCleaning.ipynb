{
 "cells": [
  {
   "cell_type": "code",
   "execution_count": null,
   "id": "45489e98",
   "metadata": {},
   "outputs": [],
   "source": [
    "import pandas as pd\n",
    "import numpy as np\n",
    "from sklearn.preprocessing import StandardScaler\n",
    "from sklearn.feature_selection import SelectKBest, mutual_info_regression"
   ]
  },
  {
   "cell_type": "code",
   "execution_count": 4,
   "id": "f704ff21",
   "metadata": {},
   "outputs": [],
   "source": [
    "# --- DATA LOADING AND MERGING --- (Replicated from earlier steps)\n",
    "sales_df = pd.read_csv(r'C:\\Users\\ASUS PC\\Desktop\\AMDARI INTERNSHIP\\FrostMart\\Dataset\\weekly_sales.csv')\n",
    "product_df = pd.read_csv(r'C:\\Users\\ASUS PC\\Desktop\\AMDARI INTERNSHIP\\FrostMart\\Dataset\\product_details.csv')\n",
    "store_df = pd.read_csv(r'C:\\Users\\ASUS PC\\Desktop\\AMDARI INTERNSHIP\\FrostMart\\Dataset\\store_info.csv')\n",
    "weather_df = pd.read_csv(r'C:\\Users\\ASUS PC\\Desktop\\AMDARI INTERNSHIP\\FrostMart\\Dataset\\weather_data.csv')\n",
    "supplier_df = pd.read_csv(r'C:\\Users\\ASUS PC\\Desktop\\AMDARI INTERNSHIP\\FrostMart\\Dataset\\supplier_info.csv')"
   ]
  },
  {
   "cell_type": "code",
   "execution_count": 5,
   "id": "643c4e3c",
   "metadata": {},
   "outputs": [],
   "source": [
    "sales_df['Product_ID'] = sales_df['Product_ID'].astype(str)\n",
    "product_df['Product_ID'] = product_df['Product_ID'].astype(str)\n",
    "sales_df['Store_ID'] = sales_df['Store_ID'].astype(str)\n",
    "store_df['Store_ID'] = store_df['Store_ID'].astype(str)\n",
    "product_df['Supplier_ID'] = product_df['Supplier_ID'].astype(str)\n",
    "supplier_df['Supplier_ID'] = supplier_df['Supplier_ID'].astype(str)"
   ]
  },
  {
   "cell_type": "code",
   "execution_count": 6,
   "id": "d65a600e",
   "metadata": {},
   "outputs": [],
   "source": [
    "merged_df = sales_df.merge(product_df, on='Product_ID', how='left')\n",
    "merged_df = merged_df.merge(store_df, on='Store_ID', how='left')\n",
    "merged_df = merged_df.merge(supplier_df, on='Supplier_ID', how='left')\n",
    "merged_df = merged_df.merge(weather_df, on=['Week_Number', 'Region'], how='left')\n",
    "merged_df = merged_df.drop(columns=['Supplier_ID'])"
   ]
  },
  {
   "cell_type": "code",
   "execution_count": 7,
   "id": "a07b7ad4",
   "metadata": {},
   "outputs": [
    {
     "name": "stdout",
     "output_type": "stream",
     "text": [
      "  Week_Number Product_ID Store_ID  Units_Sold  Marketing_Spend  \\\n",
      "0    2024-W01       1000      500        4853           670.37   \n",
      "1    2024-W01       1001      500        4274          1089.62   \n",
      "2    2024-W01       1002      500        4215          1004.99   \n",
      "3    2024-W01       1003      500        5768           859.45   \n",
      "4    2024-W01       1004      500        3403           576.70   \n",
      "\n",
      "   Discount_Percent  Wastage_Units  Price              Product_Name  \\\n",
      "0                 0            718   2.46    Whole Wheat Bread 800g   \n",
      "1                 0            641   1.27       White Sandwich Loaf   \n",
      "2                10            632   2.74          Croissant 4-pack   \n",
      "3                20            853   1.82  Blueberry Muffins 6-pack   \n",
      "4                 0            503   3.46    Chocolate Chip Cookies   \n",
      "\n",
      "  Product_Category  Shelf_Life_Days  Region  Store_Size  \\\n",
      "0           Bakery                4  London       12000   \n",
      "1           Bakery                2  London       12000   \n",
      "2           Bakery                2  London       12000   \n",
      "3           Bakery                4  London       12000   \n",
      "4           Bakery                4  London       12000   \n",
      "\n",
      "   Cold_Storage_Capacity              Supplier_Name  Lead_Time_Days  \\\n",
      "0                   3788     PremiumGoods Wholesale               3   \n",
      "1                   3788   TrustedSource Provisions               3   \n",
      "2                   3788  LocalHarvest Distributors               2   \n",
      "3                   3788     BestQuality Foods Ltd.               2   \n",
      "4                   3788     SwiftDelivery Foods UK               2   \n",
      "\n",
      "   Supply_Capacity  Avg_Temperature  Rainfall  Holiday_Flag  \n",
      "0            48776              9.9      23.0             1  \n",
      "1            46959              9.9      23.0             1  \n",
      "2            11306              9.9      23.0             1  \n",
      "3            53748              9.9      23.0             1  \n",
      "4            59474              9.9      23.0             1  \n"
     ]
    }
   ],
   "source": [
    "print(merged_df.head())"
   ]
  },
  {
   "cell_type": "code",
   "execution_count": 8,
   "id": "d5182272",
   "metadata": {},
   "outputs": [
    {
     "name": "stdout",
     "output_type": "stream",
     "text": [
      "Rows: 37440, Columns: 20\n"
     ]
    }
   ],
   "source": [
    "#Understand the structure of the data\n",
    "print(f'Rows: {merged_df.shape[0]}, Columns: {merged_df.shape[1]}')"
   ]
  },
  {
   "cell_type": "code",
   "execution_count": 9,
   "id": "6e89333f",
   "metadata": {},
   "outputs": [
    {
     "name": "stdout",
     "output_type": "stream",
     "text": [
      "<class 'pandas.core.frame.DataFrame'>\n",
      "RangeIndex: 37440 entries, 0 to 37439\n",
      "Data columns (total 20 columns):\n",
      " #   Column                 Non-Null Count  Dtype  \n",
      "---  ------                 --------------  -----  \n",
      " 0   Week_Number            37440 non-null  object \n",
      " 1   Product_ID             37440 non-null  object \n",
      " 2   Store_ID               37440 non-null  object \n",
      " 3   Units_Sold             37440 non-null  int64  \n",
      " 4   Marketing_Spend        37440 non-null  float64\n",
      " 5   Discount_Percent       37440 non-null  int64  \n",
      " 6   Wastage_Units          37440 non-null  int64  \n",
      " 7   Price                  37440 non-null  float64\n",
      " 8   Product_Name           37440 non-null  object \n",
      " 9   Product_Category       37440 non-null  object \n",
      " 10  Shelf_Life_Days        37440 non-null  int64  \n",
      " 11  Region                 37440 non-null  object \n",
      " 12  Store_Size             37440 non-null  int64  \n",
      " 13  Cold_Storage_Capacity  37440 non-null  int64  \n",
      " 14  Supplier_Name          37440 non-null  object \n",
      " 15  Lead_Time_Days         37440 non-null  int64  \n",
      " 16  Supply_Capacity        37440 non-null  int64  \n",
      " 17  Avg_Temperature        37440 non-null  float64\n",
      " 18  Rainfall               37440 non-null  float64\n",
      " 19  Holiday_Flag           37440 non-null  int64  \n",
      "dtypes: float64(4), int64(9), object(7)\n",
      "memory usage: 5.7+ MB\n",
      "None\n"
     ]
    }
   ],
   "source": [
    "#Summary of dataset\n",
    "print(merged_df.info())"
   ]
  },
  {
   "cell_type": "code",
   "execution_count": 10,
   "id": "c0846b0e",
   "metadata": {},
   "outputs": [
    {
     "name": "stdout",
     "output_type": "stream",
     "text": [
      "False\n"
     ]
    }
   ],
   "source": [
    "#check for duplicated values\n",
    "print(merged_df.duplicated().any())"
   ]
  },
  {
   "cell_type": "code",
   "execution_count": 15,
   "id": "e649dab0",
   "metadata": {},
   "outputs": [
    {
     "name": "stdout",
     "output_type": "stream",
     "text": [
      "         Units_Sold  Marketing_Spend  Discount_Percent  Wastage_Units  \\\n",
      "count  37440.000000     37440.000000      37440.000000   37440.000000   \n",
      "mean    1642.154087       410.551195          2.896234     127.844284   \n",
      "std     1166.477872       239.093420          6.154093     130.960266   \n",
      "min      194.000000       100.030000          0.000000       6.000000   \n",
      "25%      799.000000       242.672500          0.000000      42.000000   \n",
      "50%     1344.000000       348.630000          0.000000      83.000000   \n",
      "75%     2131.000000       549.070000          0.000000     167.000000   \n",
      "max    10413.000000      1972.700000         25.000000    1541.000000   \n",
      "\n",
      "              Price  Shelf_Life_Days    Store_Size  Cold_Storage_Capacity  \\\n",
      "count  37440.000000     37440.000000  37440.000000           37440.000000   \n",
      "mean       4.162083        59.916667   5333.333333            1527.066667   \n",
      "std        2.641350        98.188597   2796.860947             932.920562   \n",
      "min        0.420000         2.000000   3000.000000             634.000000   \n",
      "25%        2.160000         4.000000   3000.000000             998.000000   \n",
      "50%        3.480000         7.500000   4000.000000            1086.000000   \n",
      "75%        5.560000        36.250000   5000.000000            1697.000000   \n",
      "max       12.000000       356.000000  12000.000000            3788.000000   \n",
      "\n",
      "       Lead_Time_Days  Supply_Capacity  Avg_Temperature      Rainfall  \\\n",
      "count    37440.000000     37440.000000     37440.000000  37440.000000   \n",
      "mean         2.395833     46608.041667        10.249103     20.249744   \n",
      "std          0.567883     15002.328337         6.103285      9.903930   \n",
      "min          1.000000     11306.000000        -0.800000      6.600000   \n",
      "25%          2.000000     35230.000000         4.700000     11.900000   \n",
      "50%          2.000000     48776.000000         9.850000     18.100000   \n",
      "75%          3.000000     54320.000000        15.600000     27.500000   \n",
      "max          3.000000     71976.000000        22.000000     52.500000   \n",
      "\n",
      "       Holiday_Flag  \n",
      "count  37440.000000  \n",
      "mean       0.146154  \n",
      "std        0.353265  \n",
      "min        0.000000  \n",
      "25%        0.000000  \n",
      "50%        0.000000  \n",
      "75%        0.000000  \n",
      "max        1.000000  \n"
     ]
    }
   ],
   "source": [
    "#quick stats of dataset\n",
    "print(merged_df.describe(exclude='object'))"
   ]
  },
  {
   "cell_type": "code",
   "execution_count": 16,
   "id": "b76f7cd6",
   "metadata": {},
   "outputs": [],
   "source": [
    "#save dataset in EDA\n",
    "save_path = r\"C:\\Users\\ASUS PC\\Desktop\\AMDARI INTERNSHIP\\FrostMart\\EDA\\cleaned_data.csv\"\n",
    "# Save the DataFrame to CSV\n",
    "merged_df.to_csv(save_path, index=False)"
   ]
  }
 ],
 "metadata": {
  "kernelspec": {
   "display_name": "johnenv (3.12.7)",
   "language": "python",
   "name": "python3"
  },
  "language_info": {
   "codemirror_mode": {
    "name": "ipython",
    "version": 3
   },
   "file_extension": ".py",
   "mimetype": "text/x-python",
   "name": "python",
   "nbconvert_exporter": "python",
   "pygments_lexer": "ipython3",
   "version": "3.12.7"
  }
 },
 "nbformat": 4,
 "nbformat_minor": 5
}
